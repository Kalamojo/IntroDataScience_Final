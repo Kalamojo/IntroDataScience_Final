{
 "cells": [
  {
   "cell_type": "code",
   "execution_count": 1,
   "metadata": {},
   "outputs": [
    {
     "data": {
      "text/html": [
       "<div>\n",
       "<style scoped>\n",
       "    .dataframe tbody tr th:only-of-type {\n",
       "        vertical-align: middle;\n",
       "    }\n",
       "\n",
       "    .dataframe tbody tr th {\n",
       "        vertical-align: top;\n",
       "    }\n",
       "\n",
       "    .dataframe thead th {\n",
       "        text-align: right;\n",
       "    }\n",
       "</style>\n",
       "<table border=\"1\" class=\"dataframe\">\n",
       "  <thead>\n",
       "    <tr style=\"text-align: right;\">\n",
       "      <th></th>\n",
       "      <th>game_name</th>\n",
       "      <th>meta_score</th>\n",
       "      <th>user_score</th>\n",
       "      <th>platform</th>\n",
       "      <th>description</th>\n",
       "      <th>developer</th>\n",
       "      <th>genre</th>\n",
       "      <th>type</th>\n",
       "      <th>rating</th>\n",
       "    </tr>\n",
       "  </thead>\n",
       "  <tbody>\n",
       "    <tr>\n",
       "      <th>0</th>\n",
       "      <td>The Legend of Zelda: Ocarina of Time</td>\n",
       "      <td>99.0</td>\n",
       "      <td>91.0</td>\n",
       "      <td>['nintendo-64']</td>\n",
       "      <td>As a young boy, Link is tricked by Ganondorf, ...</td>\n",
       "      <td>Nintendo</td>\n",
       "      <td>[Action Adventure, Fantasy]</td>\n",
       "      <td>singleplayer</td>\n",
       "      <td>E</td>\n",
       "    </tr>\n",
       "    <tr>\n",
       "      <th>1</th>\n",
       "      <td>Super Mario Galaxy</td>\n",
       "      <td>97.0</td>\n",
       "      <td>91.0</td>\n",
       "      <td>['wii']</td>\n",
       "      <td>[Metacritic's 2007 Wii Game of the Year] The u...</td>\n",
       "      <td>Nintendo</td>\n",
       "      <td>[Action, Platformer, 3D]</td>\n",
       "      <td>singleplayer</td>\n",
       "      <td>E</td>\n",
       "    </tr>\n",
       "    <tr>\n",
       "      <th>2</th>\n",
       "      <td>Super Mario Galaxy 2</td>\n",
       "      <td>97.0</td>\n",
       "      <td>91.0</td>\n",
       "      <td>['wii']</td>\n",
       "      <td>Super Mario Galaxy 2, the sequel to the galaxy...</td>\n",
       "      <td>Nintendo EAD Tokyo</td>\n",
       "      <td>[Action, Platformer, 3D]</td>\n",
       "      <td>singleplayer</td>\n",
       "      <td>E</td>\n",
       "    </tr>\n",
       "    <tr>\n",
       "      <th>3</th>\n",
       "      <td>Metroid Prime</td>\n",
       "      <td>97.0</td>\n",
       "      <td>89.0</td>\n",
       "      <td>['gamecube']</td>\n",
       "      <td>Samus returns in a new mission to unravel the ...</td>\n",
       "      <td>Retro Studios</td>\n",
       "      <td>[Action, Shooter, First-Person, Sci-Fi]</td>\n",
       "      <td>singleplayer</td>\n",
       "      <td>T</td>\n",
       "    </tr>\n",
       "    <tr>\n",
       "      <th>4</th>\n",
       "      <td>Super Mario Odyssey</td>\n",
       "      <td>97.0</td>\n",
       "      <td>89.0</td>\n",
       "      <td>['switch']</td>\n",
       "      <td>New Evolution of Mario Sandbox-Style Gameplay....</td>\n",
       "      <td>Nintendo</td>\n",
       "      <td>[Action, Platformer, 3D]</td>\n",
       "      <td>singleplayer</td>\n",
       "      <td>E10+</td>\n",
       "    </tr>\n",
       "  </tbody>\n",
       "</table>\n",
       "</div>"
      ],
      "text/plain": [
       "                              game_name  meta_score  user_score  \\\n",
       "0  The Legend of Zelda: Ocarina of Time        99.0        91.0   \n",
       "1                    Super Mario Galaxy        97.0        91.0   \n",
       "2                  Super Mario Galaxy 2        97.0        91.0   \n",
       "3                         Metroid Prime        97.0        89.0   \n",
       "4                   Super Mario Odyssey        97.0        89.0   \n",
       "\n",
       "          platform                                        description  \\\n",
       "0  ['nintendo-64']  As a young boy, Link is tricked by Ganondorf, ...   \n",
       "1          ['wii']  [Metacritic's 2007 Wii Game of the Year] The u...   \n",
       "2          ['wii']  Super Mario Galaxy 2, the sequel to the galaxy...   \n",
       "3     ['gamecube']  Samus returns in a new mission to unravel the ...   \n",
       "4       ['switch']  New Evolution of Mario Sandbox-Style Gameplay....   \n",
       "\n",
       "             developer                                    genre          type  \\\n",
       "0             Nintendo              [Action Adventure, Fantasy]  singleplayer   \n",
       "1             Nintendo                 [Action, Platformer, 3D]  singleplayer   \n",
       "2  Nintendo EAD Tokyo                  [Action, Platformer, 3D]  singleplayer   \n",
       "3        Retro Studios  [Action, Shooter, First-Person, Sci-Fi]  singleplayer   \n",
       "4             Nintendo                 [Action, Platformer, 3D]  singleplayer   \n",
       "\n",
       "  rating  \n",
       "0      E  \n",
       "1      E  \n",
       "2      E  \n",
       "3      T  \n",
       "4   E10+  "
      ]
     },
     "execution_count": 1,
     "metadata": {},
     "output_type": "execute_result"
    }
   ],
   "source": [
    "from rake_nltk import Rake\n",
    "import pandas as pd\n",
    "import numpy as np\n",
    "from sklearn.metrics.pairwise import cosine_similarity\n",
    "from sklearn.feature_extraction.text import CountVectorizer\n",
    "\n",
    "url = \"https://drive.google.com/uc?export=download&id=1tEvJfPhYg0t5NXUKX66GGPLSk0EMYIF1\"\n",
    "\n",
    "games = pd.read_csv(url)\n",
    "games = games.drop(\"url\", axis=1)\n",
    "games[\"genre\"] = games[\"genre\"].fillna(\"[\\'None\\']\")\n",
    "games[\"genre\"] = games[\"genre\"].apply(eval)\n",
    "\n",
    "games['rating'] = games['rating'].fillna('Unknown')\n",
    "games['developer'] = games['developer'].fillna('Undisclosed')\n",
    "games['type'] = games['type'].fillna('Untold')\n",
    "\n",
    "games.head()"
   ]
  },
  {
   "cell_type": "code",
   "execution_count": 2,
   "metadata": {},
   "outputs": [
    {
     "data": {
      "image/png": "[encoded data removed]",
      "text/plain": [
       "<Figure size 648x432 with 1 Axes>"
      ]
     },
     "metadata": {
      "needs_background": "light"
     },
     "output_type": "display_data"
    }
   ],
   "source": [
    "from matplotlib import cm\n",
    "color = cm.inferno_r(np.linspace(0.4, 0.8, 15))\n",
    "games['genre'].value_counts()[0:15].plot(kind='barh', figsize=[9,6], fontsize=15, color=color).invert_yaxis()"
   ]
  },
  {
   "cell_type": "code",
   "execution_count": 3,
   "metadata": {},
   "outputs": [
    {
     "data": {
      "text/plain": [
       "Action              3125\n",
       "General             2488\n",
       "Action Adventure    1208\n",
       "Shooter             1101\n",
       "Role-Playing        1059\n",
       "                    ... \n",
       "Civilian Plane         2\n",
       "Bowling                2\n",
       "Tank                   1\n",
       "Drag                   1\n",
       "Skating                1\n",
       "Length: 169, dtype: int64"
      ]
     },
     "execution_count": 3,
     "metadata": {},
     "output_type": "execute_result"
    }
   ],
   "source": [
    "def to_1D(series):\n",
    " return pd.Series([x for _list in series for x in _list])\n",
    "\n",
    "to_1D(games[\"genre\"]).value_counts()"
   ]
  },
  {
   "cell_type": "code",
   "execution_count": 4,
   "metadata": {},
   "outputs": [
    {
     "data": {
      "image/png": "[encoded data removed]",
      "text/plain": [
       "<Figure size 648x432 with 1 Axes>"
      ]
     },
     "metadata": {
      "needs_background": "light"
     },
     "output_type": "display_data"
    }
   ],
   "source": [
    "to_1D(games['genre']).value_counts()[0:15].plot(kind='barh', figsize=[9,6], fontsize=15, color=color).invert_yaxis()"
   ]
  },
  {
   "cell_type": "code",
   "execution_count": 5,
   "metadata": {},
   "outputs": [
    {
     "data": {
      "text/html": [
       "<div>\n",
       "<style scoped>\n",
       "    .dataframe tbody tr th:only-of-type {\n",
       "        vertical-align: middle;\n",
       "    }\n",
       "\n",
       "    .dataframe tbody tr th {\n",
       "        vertical-align: top;\n",
       "    }\n",
       "\n",
       "    .dataframe thead th {\n",
       "        text-align: right;\n",
       "    }\n",
       "</style>\n",
       "<table border=\"1\" class=\"dataframe\">\n",
       "  <thead>\n",
       "    <tr style=\"text-align: right;\">\n",
       "      <th></th>\n",
       "      <th>game_name</th>\n",
       "      <th>meta_score</th>\n",
       "      <th>user_score</th>\n",
       "      <th>platform</th>\n",
       "      <th>description</th>\n",
       "      <th>developer</th>\n",
       "      <th>genre</th>\n",
       "      <th>type</th>\n",
       "      <th>rating</th>\n",
       "      <th>Key_words</th>\n",
       "    </tr>\n",
       "  </thead>\n",
       "  <tbody>\n",
       "    <tr>\n",
       "      <th>0</th>\n",
       "      <td>The Legend of Zelda: Ocarina of Time</td>\n",
       "      <td>99.0</td>\n",
       "      <td>91.0</td>\n",
       "      <td>['nintendo-64']</td>\n",
       "      <td>As a young boy, Link is tricked by Ganondorf, ...</td>\n",
       "      <td>Nintendo</td>\n",
       "      <td>[Action Adventure, Fantasy]</td>\n",
       "      <td>singleplayer</td>\n",
       "      <td>E</td>\n",
       "      <td>[young, boy, link, tricked, ganondorf, king, g...</td>\n",
       "    </tr>\n",
       "    <tr>\n",
       "      <th>1</th>\n",
       "      <td>Super Mario Galaxy</td>\n",
       "      <td>97.0</td>\n",
       "      <td>91.0</td>\n",
       "      <td>['wii']</td>\n",
       "      <td>[Metacritic's 2007 Wii Game of the Year] The u...</td>\n",
       "      <td>Nintendo</td>\n",
       "      <td>[Action, Platformer, 3D]</td>\n",
       "      <td>singleplayer</td>\n",
       "      <td>E</td>\n",
       "      <td>[metacritic, 2007, wii, game, year, ultimate, ...</td>\n",
       "    </tr>\n",
       "    <tr>\n",
       "      <th>2</th>\n",
       "      <td>Super Mario Galaxy 2</td>\n",
       "      <td>97.0</td>\n",
       "      <td>91.0</td>\n",
       "      <td>['wii']</td>\n",
       "      <td>Super Mario Galaxy 2, the sequel to the galaxy...</td>\n",
       "      <td>Nintendo EAD Tokyo</td>\n",
       "      <td>[Action, Platformer, 3D]</td>\n",
       "      <td>singleplayer</td>\n",
       "      <td>E</td>\n",
       "      <td>[super, mario, galaxy, 2, sequel, hopping, ori...</td>\n",
       "    </tr>\n",
       "    <tr>\n",
       "      <th>3</th>\n",
       "      <td>Metroid Prime</td>\n",
       "      <td>97.0</td>\n",
       "      <td>89.0</td>\n",
       "      <td>['gamecube']</td>\n",
       "      <td>Samus returns in a new mission to unravel the ...</td>\n",
       "      <td>Retro Studios</td>\n",
       "      <td>[Action, Shooter, First-Person, Sci-Fi]</td>\n",
       "      <td>singleplayer</td>\n",
       "      <td>T</td>\n",
       "      <td>[samus, returns, new, mission, unravel, myster...</td>\n",
       "    </tr>\n",
       "    <tr>\n",
       "      <th>4</th>\n",
       "      <td>Super Mario Odyssey</td>\n",
       "      <td>97.0</td>\n",
       "      <td>89.0</td>\n",
       "      <td>['switch']</td>\n",
       "      <td>New Evolution of Mario Sandbox-Style Gameplay....</td>\n",
       "      <td>Nintendo</td>\n",
       "      <td>[Action, Platformer, 3D]</td>\n",
       "      <td>singleplayer</td>\n",
       "      <td>E10+</td>\n",
       "      <td>[new, evolution, mario, sandbox, style, gamepl...</td>\n",
       "    </tr>\n",
       "  </tbody>\n",
       "</table>\n",
       "</div>"
      ],
      "text/plain": [
       "                              game_name  meta_score  user_score  \\\n",
       "0  The Legend of Zelda: Ocarina of Time        99.0        91.0   \n",
       "1                    Super Mario Galaxy        97.0        91.0   \n",
       "2                  Super Mario Galaxy 2        97.0        91.0   \n",
       "3                         Metroid Prime        97.0        89.0   \n",
       "4                   Super Mario Odyssey        97.0        89.0   \n",
       "\n",
       "          platform                                        description  \\\n",
       "0  ['nintendo-64']  As a young boy, Link is tricked by Ganondorf, ...   \n",
       "1          ['wii']  [Metacritic's 2007 Wii Game of the Year] The u...   \n",
       "2          ['wii']  Super Mario Galaxy 2, the sequel to the galaxy...   \n",
       "3     ['gamecube']  Samus returns in a new mission to unravel the ...   \n",
       "4       ['switch']  New Evolution of Mario Sandbox-Style Gameplay....   \n",
       "\n",
       "             developer                                    genre          type  \\\n",
       "0             Nintendo              [Action Adventure, Fantasy]  singleplayer   \n",
       "1             Nintendo                 [Action, Platformer, 3D]  singleplayer   \n",
       "2  Nintendo EAD Tokyo                  [Action, Platformer, 3D]  singleplayer   \n",
       "3        Retro Studios  [Action, Shooter, First-Person, Sci-Fi]  singleplayer   \n",
       "4             Nintendo                 [Action, Platformer, 3D]  singleplayer   \n",
       "\n",
       "  rating                                          Key_words  \n",
       "0      E  [young, boy, link, tricked, ganondorf, king, g...  \n",
       "1      E  [metacritic, 2007, wii, game, year, ultimate, ...  \n",
       "2      E  [super, mario, galaxy, 2, sequel, hopping, ori...  \n",
       "3      T  [samus, returns, new, mission, unravel, myster...  \n",
       "4   E10+  [new, evolution, mario, sandbox, style, gamepl...  "
      ]
     },
     "execution_count": 5,
     "metadata": {},
     "output_type": "execute_result"
    }
   ],
   "source": [
    "games['Key_words'] = ''\n",
    "r = Rake()\n",
    "for index, row in games.iterrows():\n",
    "    r.extract_keywords_from_text(row['description'])\n",
    "    key_words_dict_scores = r.get_word_degrees()\n",
    "    games.at[index, \"Key_words\"] = list(key_words_dict_scores.keys())\n",
    "\n",
    "games.head()"
   ]
  },
  {
   "cell_type": "code",
   "execution_count": 6,
   "metadata": {},
   "outputs": [
    {
     "data": {
      "text/html": [
       "<div>\n",
       "<style scoped>\n",
       "    .dataframe tbody tr th:only-of-type {\n",
       "        vertical-align: middle;\n",
       "    }\n",
       "\n",
       "    .dataframe tbody tr th {\n",
       "        vertical-align: top;\n",
       "    }\n",
       "\n",
       "    .dataframe thead th {\n",
       "        text-align: right;\n",
       "    }\n",
       "</style>\n",
       "<table border=\"1\" class=\"dataframe\">\n",
       "  <thead>\n",
       "    <tr style=\"text-align: right;\">\n",
       "      <th></th>\n",
       "      <th>game_name</th>\n",
       "      <th>meta_score</th>\n",
       "      <th>user_score</th>\n",
       "      <th>platform</th>\n",
       "      <th>description</th>\n",
       "      <th>developer</th>\n",
       "      <th>genre</th>\n",
       "      <th>type</th>\n",
       "      <th>rating</th>\n",
       "      <th>Key_words</th>\n",
       "    </tr>\n",
       "  </thead>\n",
       "  <tbody>\n",
       "    <tr>\n",
       "      <th>0</th>\n",
       "      <td>The Legend of Zelda: Ocarina of Time</td>\n",
       "      <td>99.0</td>\n",
       "      <td>91.0</td>\n",
       "      <td>['nintendo-64']</td>\n",
       "      <td>As a young boy, Link is tricked by Ganondorf, ...</td>\n",
       "      <td>[nintendo]</td>\n",
       "      <td>[Action Adventure, Fantasy]</td>\n",
       "      <td>[singleplayer]</td>\n",
       "      <td>[e]</td>\n",
       "      <td>[young, boy, link, tricked, ganondorf, king, g...</td>\n",
       "    </tr>\n",
       "    <tr>\n",
       "      <th>1</th>\n",
       "      <td>Super Mario Galaxy</td>\n",
       "      <td>97.0</td>\n",
       "      <td>91.0</td>\n",
       "      <td>['wii']</td>\n",
       "      <td>[Metacritic's 2007 Wii Game of the Year] The u...</td>\n",
       "      <td>[nintendo]</td>\n",
       "      <td>[Action, Platformer, 3D]</td>\n",
       "      <td>[singleplayer]</td>\n",
       "      <td>[e]</td>\n",
       "      <td>[metacritic, 2007, wii, game, year, ultimate, ...</td>\n",
       "    </tr>\n",
       "    <tr>\n",
       "      <th>2</th>\n",
       "      <td>Super Mario Galaxy 2</td>\n",
       "      <td>97.0</td>\n",
       "      <td>91.0</td>\n",
       "      <td>['wii']</td>\n",
       "      <td>Super Mario Galaxy 2, the sequel to the galaxy...</td>\n",
       "      <td>[nintendoeadtokyo]</td>\n",
       "      <td>[Action, Platformer, 3D]</td>\n",
       "      <td>[singleplayer]</td>\n",
       "      <td>[e]</td>\n",
       "      <td>[super, mario, galaxy, 2, sequel, hopping, ori...</td>\n",
       "    </tr>\n",
       "    <tr>\n",
       "      <th>3</th>\n",
       "      <td>Metroid Prime</td>\n",
       "      <td>97.0</td>\n",
       "      <td>89.0</td>\n",
       "      <td>['gamecube']</td>\n",
       "      <td>Samus returns in a new mission to unravel the ...</td>\n",
       "      <td>[retrostudios]</td>\n",
       "      <td>[Action, Shooter, First-Person, Sci-Fi]</td>\n",
       "      <td>[singleplayer]</td>\n",
       "      <td>[t]</td>\n",
       "      <td>[samus, returns, new, mission, unravel, myster...</td>\n",
       "    </tr>\n",
       "    <tr>\n",
       "      <th>4</th>\n",
       "      <td>Super Mario Odyssey</td>\n",
       "      <td>97.0</td>\n",
       "      <td>89.0</td>\n",
       "      <td>['switch']</td>\n",
       "      <td>New Evolution of Mario Sandbox-Style Gameplay....</td>\n",
       "      <td>[nintendo]</td>\n",
       "      <td>[Action, Platformer, 3D]</td>\n",
       "      <td>[singleplayer]</td>\n",
       "      <td>[e10+]</td>\n",
       "      <td>[new, evolution, mario, sandbox, style, gamepl...</td>\n",
       "    </tr>\n",
       "  </tbody>\n",
       "</table>\n",
       "</div>"
      ],
      "text/plain": [
       "                              game_name  meta_score  user_score  \\\n",
       "0  The Legend of Zelda: Ocarina of Time        99.0        91.0   \n",
       "1                    Super Mario Galaxy        97.0        91.0   \n",
       "2                  Super Mario Galaxy 2        97.0        91.0   \n",
       "3                         Metroid Prime        97.0        89.0   \n",
       "4                   Super Mario Odyssey        97.0        89.0   \n",
       "\n",
       "          platform                                        description  \\\n",
       "0  ['nintendo-64']  As a young boy, Link is tricked by Ganondorf, ...   \n",
       "1          ['wii']  [Metacritic's 2007 Wii Game of the Year] The u...   \n",
       "2          ['wii']  Super Mario Galaxy 2, the sequel to the galaxy...   \n",
       "3     ['gamecube']  Samus returns in a new mission to unravel the ...   \n",
       "4       ['switch']  New Evolution of Mario Sandbox-Style Gameplay....   \n",
       "\n",
       "            developer                                    genre  \\\n",
       "0          [nintendo]              [Action Adventure, Fantasy]   \n",
       "1          [nintendo]                 [Action, Platformer, 3D]   \n",
       "2  [nintendoeadtokyo]                 [Action, Platformer, 3D]   \n",
       "3      [retrostudios]  [Action, Shooter, First-Person, Sci-Fi]   \n",
       "4          [nintendo]                 [Action, Platformer, 3D]   \n",
       "\n",
       "             type  rating                                          Key_words  \n",
       "0  [singleplayer]     [e]  [young, boy, link, tricked, ganondorf, king, g...  \n",
       "1  [singleplayer]     [e]  [metacritic, 2007, wii, game, year, ultimate, ...  \n",
       "2  [singleplayer]     [e]  [super, mario, galaxy, 2, sequel, hopping, ori...  \n",
       "3  [singleplayer]     [t]  [samus, returns, new, mission, unravel, myster...  \n",
       "4  [singleplayer]  [e10+]  [new, evolution, mario, sandbox, style, gamepl...  "
      ]
     },
     "execution_count": 6,
     "metadata": {},
     "output_type": "execute_result"
    }
   ],
   "source": [
    "games['type'] = games['type'].map(lambda x: x.split(','))\n",
    "games['rating'] = games['rating'].map(lambda x: x.split(','))\n",
    "games['developer'] = games['developer'].map(lambda x: x.split(','))\n",
    "for index, row in games.iterrows():\n",
    "    games.at[index, 'type'] = [x.lower().replace(' ','') for x in row['type']]\n",
    "    games.at[index, 'rating'] = [x.lower().replace(' ','') for x in row['rating']]\n",
    "    games.at[index, 'developer'] = [x.lower().replace(' ','') for x in row['developer']]\n",
    "\n",
    "games.head()"
   ]
  },
  {
   "cell_type": "code",
   "execution_count": 7,
   "metadata": {},
   "outputs": [],
   "source": [
    "games['Bag_of_words'] = ''\n",
    "columns = ['genre', 'developer', 'rating', 'type', 'Key_words']\n",
    "for index, row in games.iterrows():\n",
    "    words = ''\n",
    "    for col in columns:\n",
    "        words += ' '.join(row[col]) + ' '\n",
    "    games.at[index, 'Bag_of_words'] = words\n",
    "    \n",
    "games_rec = games[['game_name','Bag_of_words']]"
   ]
  },
  {
   "cell_type": "code",
   "execution_count": 8,
   "metadata": {},
   "outputs": [
    {
     "name": "stdout",
     "output_type": "stream",
     "text": [
      "[[1.         0.06539825 0.06673261 ... 0.02831827 0.05391639 0.09302326]\n",
      " [0.06539825 1.         0.31276737 ... 0.03981726 0.05685735 0.06539825]\n",
      " [0.06673261 0.31276737 1.         ... 0.02708645 0.05157106 0.08897681]\n",
      " ...\n",
      " [0.02831827 0.03981726 0.02708645 ... 1.         0.03282661 0.05663655]\n",
      " [0.05391639 0.05685735 0.05157106 ... 0.03282661 1.         0.        ]\n",
      " [0.09302326 0.06539825 0.08897681 ... 0.05663655 0.         1.        ]]\n"
     ]
    }
   ],
   "source": [
    "count = CountVectorizer()\n",
    "count_matrix = count.fit_transform(games_rec['Bag_of_words'])\n",
    "cosine_sim = cosine_similarity(count_matrix, count_matrix)\n",
    "print(cosine_sim)"
   ]
  },
  {
   "cell_type": "code",
   "execution_count": 9,
   "metadata": {},
   "outputs": [
    {
     "data": {
      "text/plain": [
       "array([['Super Mario Galaxy 2', '0.3127673715578024'],\n",
       "       ['Super Mario 3D World', '0.26339329200376005'],\n",
       "       ['Super Mario 64 DS', '0.2346942057358599'],\n",
       "       ['Angry Video Game Nerd Adventures', '0.22145461294330657'],\n",
       "       ['Super Paper Mario', '0.21992141249949376'],\n",
       "       ['Geometry Wars: Galaxies', '0.21771307016784763'],\n",
       "       ['Super Mario 3D Land', '0.2156484889823707'],\n",
       "       ['The Legend of Zelda: Twilight Princess', '0.21479444568068934'],\n",
       "       ['Super Mario Odyssey', '0.21150505800565567'],\n",
       "       ['Samurai Warriors 3', '0.21055872190307895']], dtype='<U38')"
      ]
     },
     "execution_count": 9,
     "metadata": {},
     "output_type": "execute_result"
    }
   ],
   "source": [
    "indices = pd.Series(games_rec[\"game_name\"])\n",
    "\n",
    "def recommend(title, cosine_sim = cosine_sim):\n",
    "    recommended_games = []\n",
    "    idx = indices[indices == title].index[0]\n",
    "    score_series = pd.Series(cosine_sim[idx]).sort_values(ascending = False)\n",
    "    top_10_indices = list(score_series.iloc[1:11].index)\n",
    "    \n",
    "    for i in top_10_indices:\n",
    "        recommended_games.append(list(games_rec['game_name'])[i])\n",
    "        \n",
    "    return np.vstack((recommended_games,score_series.iloc[1:11].values)).T\n",
    "\n",
    "recommend('Super Mario Galaxy')"
   ]
  },
  {
   "cell_type": "code",
   "execution_count": 10,
   "metadata": {},
   "outputs": [
    {
     "data": {
      "text/plain": [
       "array([['Phoenix Wright: Ace Attorney - Justice for All',\n",
       "        '0.3984095364447984'],\n",
       "       ['Phoenix Wright: Ace Attorney Trilogy', '0.3463446961136798'],\n",
       "       ['Phoenix Wright: Ace Attorney', '0.30210898905832195'],\n",
       "       ['Apollo Justice: Ace Attorney', '0.262128916206451'],\n",
       "       ['Harvey Birdman: Attorney at Law', '0.2467838236981868'],\n",
       "       ['Phoenix Wright: Ace Attorney - Spirit of Justice',\n",
       "        '0.21912524504463893'],\n",
       "       ['Aviary Attorney', '0.2150597223603683'],\n",
       "       ['Law & Order: Dead on the Money', '0.19478290326359252'],\n",
       "       ['Nine Hours, Nine Persons, Nine Doors', '0.19218555339901836'],\n",
       "       ['CSI: Crime Scene Investigation: Dark Motives',\n",
       "        '0.19080659174875084']], dtype='<U48')"
      ]
     },
     "execution_count": 10,
     "metadata": {},
     "output_type": "execute_result"
    }
   ],
   "source": [
    "recommend('Phoenix Wright: Ace Attorney - Trials and Tribulations')"
   ]
  },
  {
   "cell_type": "code",
   "execution_count": 11,
   "metadata": {},
   "outputs": [
    {
     "data": {
      "text/plain": [
       "array([['Madden NFL 12', '0.32475952641916456'],\n",
       "       ['Madden NFL 09 All-Play', '0.3174055271363692'],\n",
       "       ['Madden NFL 11', '0.288675134594813'],\n",
       "       ['NCAA Football 08', '0.28614654455582783'],\n",
       "       ['NBA Live 10', '0.2829582292090551'],\n",
       "       ['NFL Head Coach 09', '0.27801921874276647'],\n",
       "       ['NCAA Football 11', '0.2769558547034987'],\n",
       "       ['Madden NFL 07', '0.27386127875258304'],\n",
       "       ['Madden NFL 08', '0.2702180588945729'],\n",
       "       ['Madden NFL 13', '0.26837252006084666']], dtype='<U32')"
      ]
     },
     "execution_count": 11,
     "metadata": {},
     "output_type": "execute_result"
    }
   ],
   "source": [
    "recommend('Madden NFL 19')"
   ]
  },
  {
   "cell_type": "code",
   "execution_count": 12,
   "metadata": {},
   "outputs": [
    {
     "data": {
      "text/plain": [
       "array([['Subnautica: Below Zero', '0.31760814798505266'],\n",
       "       ['Flood of Light', '0.2491364395612199'],\n",
       "       ['The Inner Friend', '0.24313226954193232'],\n",
       "       ['The Survivalists', '0.237880413380021'],\n",
       "       ['Breathedge', '0.2375422747394687'],\n",
       "       ['Into the Stars', '0.23200591622629663'],\n",
       "       ['The Persistence', '0.22742941307367107'],\n",
       "       ['Infernium', '0.22742941307367104'],\n",
       "       ['Vesta', '0.22742941307367104'],\n",
       "       ['Life is Strange: Before the Storm - Episode 3: Hell is Empty',\n",
       "        '0.22742941307367104']], dtype='<U60')"
      ]
     },
     "execution_count": 12,
     "metadata": {},
     "output_type": "execute_result"
    }
   ],
   "source": [
    "recommend('Subnautica')"
   ]
  },
  {
   "cell_type": "code",
   "execution_count": 13,
   "metadata": {},
   "outputs": [
    {
     "name": "stdout",
     "output_type": "stream",
     "text": [
      "1. Subnautica: Below Zero-->0.31760814798505266\n",
      "2. Flood of Light-->0.2491364395612199\n",
      "3. The Inner Friend-->0.24313226954193232\n",
      "4. The Survivalists-->0.237880413380021\n",
      "5. Breathedge-->0.2375422747394687\n",
      "6. Into the Stars-->0.23200591622629663\n",
      "7. The Persistence-->0.22742941307367107\n",
      "8. Infernium-->0.22742941307367104\n",
      "9. Vesta-->0.22742941307367104\n",
      "10. Life is Strange: Before the Storm - Episode 3: Hell is Empty-->0.22742941307367104\n"
     ]
    }
   ],
   "source": [
    "def listToString(stringaslist,delimitor): \n",
    "    twine = \"\" \n",
    "\n",
    "    for i,element in enumerate(stringaslist): \n",
    "        twine += (str(i + 1) + \". \" + element[0] + \"-->\" + element[1] + delimitor)   \n",
    "\n",
    "    return twine\n",
    "\n",
    "\n",
    "# Using the slice notation, removing the appended comma at the end\n",
    "print(listToString(recommend('Subnautica'),'\\n')[:-1]) "
   ]
  },
  {
   "cell_type": "code",
   "execution_count": null,
   "metadata": {},
   "outputs": [],
   "source": [
    "import tkinter as tk\n",
    "\n",
    "window = tk.Tk()\n",
    "\n",
    "def retrieve_input():\n",
    "    textIn = myEntry.get()\n",
    "    newWindow = tk.Toplevel(window)\n",
    "    newWindow.title(\"10 Similar Games\")\n",
    "    tk.Label(newWindow, text=listToString(recommend(textIn),'\\n\\n')[:-1], height=20, foreground='#F3E8CF', background='#233788').pack()\n",
    "\n",
    "label = tk.Label(text=\"Input the name of a game:\", foreground='#233788', background='#F3E8CF', width=40, height=10)\n",
    "myEntry = tk.Entry(foreground='black', background='white', width=40)\n",
    "\n",
    "label.pack()\n",
    "myEntry.pack()\n",
    "\n",
    "submit = tk.Button(window, height=1, width=10, text=\"Search\", command=lambda: retrieve_input())\n",
    "submit.pack()\n",
    "\n",
    "\n",
    "window.mainloop()\n"
   ]
  }
 ],
 "metadata": {
  "interpreter": {
   "hash": "7be8abad3ac89d2b85e721a411d68a1d449e2dac0060c079c6cba34b777b48dd"
  },
  "kernelspec": {
   "display_name": "Python 3.9.7 ('tensorflow')",
   "language": "python",
   "name": "python3"
  },
  "language_info": {
   "codemirror_mode": {
    "name": "ipython",
    "version": 3
   },
   "file_extension": ".py",
   "mimetype": "text/x-python",
   "name": "python",
   "nbconvert_exporter": "python",
   "pygments_lexer": "ipython3",
   "version": "3.9.7"
  },
  "orig_nbformat": 4
 },
 "nbformat": 4,
 "nbformat_minor": 2
}
